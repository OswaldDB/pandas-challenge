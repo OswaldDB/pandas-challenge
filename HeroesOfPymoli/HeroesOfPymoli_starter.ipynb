{
 "cells": [
  {
   "cell_type": "code",
   "execution_count": 1,
   "metadata": {},
   "outputs": [],
   "source": [
    "# Dependencies and Setup\n",
    "import pandas as pd\n",
    "\n",
    "# File to Load (Remember to Change These)\n",
    "file_to_load = \"Resources/purchase_data.csv\"\n",
    "\n",
    "# Read Purchasing File and store into Pandas data frame\n",
    "purchase_data = pd.read_csv(file_to_load)"
   ]
  },
  {
   "cell_type": "code",
   "execution_count": 2,
   "metadata": {},
   "outputs": [
    {
     "data": {
      "text/html": [
       "<div>\n",
       "<style scoped>\n",
       "    .dataframe tbody tr th:only-of-type {\n",
       "        vertical-align: middle;\n",
       "    }\n",
       "\n",
       "    .dataframe tbody tr th {\n",
       "        vertical-align: top;\n",
       "    }\n",
       "\n",
       "    .dataframe thead th {\n",
       "        text-align: right;\n",
       "    }\n",
       "</style>\n",
       "<table border=\"1\" class=\"dataframe\">\n",
       "  <thead>\n",
       "    <tr style=\"text-align: right;\">\n",
       "      <th></th>\n",
       "      <th>Purchase ID</th>\n",
       "      <th>SN</th>\n",
       "      <th>Age</th>\n",
       "      <th>Gender</th>\n",
       "      <th>Item ID</th>\n",
       "      <th>Item Name</th>\n",
       "      <th>Price</th>\n",
       "    </tr>\n",
       "  </thead>\n",
       "  <tbody>\n",
       "    <tr>\n",
       "      <th>0</th>\n",
       "      <td>0</td>\n",
       "      <td>Lisim78</td>\n",
       "      <td>20</td>\n",
       "      <td>Male</td>\n",
       "      <td>108</td>\n",
       "      <td>Extraction, Quickblade Of Trembling Hands</td>\n",
       "      <td>3.53</td>\n",
       "    </tr>\n",
       "    <tr>\n",
       "      <th>1</th>\n",
       "      <td>1</td>\n",
       "      <td>Lisovynya38</td>\n",
       "      <td>40</td>\n",
       "      <td>Male</td>\n",
       "      <td>143</td>\n",
       "      <td>Frenzied Scimitar</td>\n",
       "      <td>1.56</td>\n",
       "    </tr>\n",
       "    <tr>\n",
       "      <th>2</th>\n",
       "      <td>2</td>\n",
       "      <td>Ithergue48</td>\n",
       "      <td>24</td>\n",
       "      <td>Male</td>\n",
       "      <td>92</td>\n",
       "      <td>Final Critic</td>\n",
       "      <td>4.88</td>\n",
       "    </tr>\n",
       "    <tr>\n",
       "      <th>3</th>\n",
       "      <td>3</td>\n",
       "      <td>Chamassasya86</td>\n",
       "      <td>24</td>\n",
       "      <td>Male</td>\n",
       "      <td>100</td>\n",
       "      <td>Blindscythe</td>\n",
       "      <td>3.27</td>\n",
       "    </tr>\n",
       "    <tr>\n",
       "      <th>4</th>\n",
       "      <td>4</td>\n",
       "      <td>Iskosia90</td>\n",
       "      <td>23</td>\n",
       "      <td>Male</td>\n",
       "      <td>131</td>\n",
       "      <td>Fury</td>\n",
       "      <td>1.44</td>\n",
       "    </tr>\n",
       "  </tbody>\n",
       "</table>\n",
       "</div>"
      ],
      "text/plain": [
       "   Purchase ID             SN  Age Gender  Item ID  \\\n",
       "0            0        Lisim78   20   Male      108   \n",
       "1            1    Lisovynya38   40   Male      143   \n",
       "2            2     Ithergue48   24   Male       92   \n",
       "3            3  Chamassasya86   24   Male      100   \n",
       "4            4      Iskosia90   23   Male      131   \n",
       "\n",
       "                                   Item Name  Price  \n",
       "0  Extraction, Quickblade Of Trembling Hands   3.53  \n",
       "1                          Frenzied Scimitar   1.56  \n",
       "2                               Final Critic   4.88  \n",
       "3                                Blindscythe   3.27  \n",
       "4                                       Fury   1.44  "
      ]
     },
     "execution_count": 2,
     "metadata": {},
     "output_type": "execute_result"
    }
   ],
   "source": [
    "purchase_data.head()"
   ]
  },
  {
   "cell_type": "markdown",
   "metadata": {},
   "source": [
    "## Player Count"
   ]
  },
  {
   "cell_type": "code",
   "execution_count": 3,
   "metadata": {},
   "outputs": [
    {
     "data": {
      "text/plain": [
       "576"
      ]
     },
     "execution_count": 3,
     "metadata": {},
     "output_type": "execute_result"
    }
   ],
   "source": [
    "len(purchase_data[\"SN\"].value_counts())"
   ]
  },
  {
   "cell_type": "markdown",
   "metadata": {},
   "source": [
    "## Purchasing Analysis (Total)"
   ]
  },
  {
   "cell_type": "code",
   "execution_count": 4,
   "metadata": {},
   "outputs": [
    {
     "data": {
      "text/html": [
       "<div>\n",
       "<style scoped>\n",
       "    .dataframe tbody tr th:only-of-type {\n",
       "        vertical-align: middle;\n",
       "    }\n",
       "\n",
       "    .dataframe tbody tr th {\n",
       "        vertical-align: top;\n",
       "    }\n",
       "\n",
       "    .dataframe thead th {\n",
       "        text-align: right;\n",
       "    }\n",
       "</style>\n",
       "<table border=\"1\" class=\"dataframe\">\n",
       "  <thead>\n",
       "    <tr style=\"text-align: right;\">\n",
       "      <th></th>\n",
       "      <th>Unique Items</th>\n",
       "      <th>Average Price</th>\n",
       "      <th>Purchases</th>\n",
       "      <th>Revenue</th>\n",
       "    </tr>\n",
       "  </thead>\n",
       "  <tbody>\n",
       "    <tr>\n",
       "      <th>0</th>\n",
       "      <td>179</td>\n",
       "      <td>3.05</td>\n",
       "      <td>780</td>\n",
       "      <td>2379.77</td>\n",
       "    </tr>\n",
       "  </tbody>\n",
       "</table>\n",
       "</div>"
      ],
      "text/plain": [
       "   Unique Items  Average Price  Purchases  Revenue\n",
       "0           179           3.05        780  2379.77"
      ]
     },
     "execution_count": 4,
     "metadata": {},
     "output_type": "execute_result"
    }
   ],
   "source": [
    "pd.DataFrame([[\n",
    "    len(purchase_data[\"Item Name\"].value_counts()),\n",
    "    round(purchase_data[\"Price\"].mean(),2),\n",
    "    len(purchase_data),\n",
    "    round(purchase_data[\"Price\"].sum(),2)]],\n",
    "    columns=[\"Unique Items\", \"Average Price\", \"Purchases\", \"Revenue\"])"
   ]
  },
  {
   "cell_type": "markdown",
   "metadata": {},
   "source": [
    "## Gender Demographics"
   ]
  },
  {
   "cell_type": "code",
   "execution_count": 5,
   "metadata": {},
   "outputs": [
    {
     "data": {
      "text/html": [
       "<style  type=\"text/css\" >\n",
       "</style><table id=\"T_4591abb4_e234_11ea_8131_7427ea4f34d2\" ><thead>    <tr>        <th class=\"blank level0\" ></th>        <th class=\"col_heading level0 col0\" >Total Count</th>        <th class=\"col_heading level0 col1\" >Percent of Players</th>    </tr></thead><tbody>\n",
       "                <tr>\n",
       "                        <th id=\"T_4591abb4_e234_11ea_8131_7427ea4f34d2level0_row0\" class=\"row_heading level0 row0\" >Male</th>\n",
       "                        <td id=\"T_4591abb4_e234_11ea_8131_7427ea4f34d2row0_col0\" class=\"data row0 col0\" >484</td>\n",
       "                        <td id=\"T_4591abb4_e234_11ea_8131_7427ea4f34d2row0_col1\" class=\"data row0 col1\" >84.03%</td>\n",
       "            </tr>\n",
       "            <tr>\n",
       "                        <th id=\"T_4591abb4_e234_11ea_8131_7427ea4f34d2level0_row1\" class=\"row_heading level0 row1\" >Female</th>\n",
       "                        <td id=\"T_4591abb4_e234_11ea_8131_7427ea4f34d2row1_col0\" class=\"data row1 col0\" >81</td>\n",
       "                        <td id=\"T_4591abb4_e234_11ea_8131_7427ea4f34d2row1_col1\" class=\"data row1 col1\" >14.06%</td>\n",
       "            </tr>\n",
       "            <tr>\n",
       "                        <th id=\"T_4591abb4_e234_11ea_8131_7427ea4f34d2level0_row2\" class=\"row_heading level0 row2\" >Other / Non-Disclosed</th>\n",
       "                        <td id=\"T_4591abb4_e234_11ea_8131_7427ea4f34d2row2_col0\" class=\"data row2 col0\" >11</td>\n",
       "                        <td id=\"T_4591abb4_e234_11ea_8131_7427ea4f34d2row2_col1\" class=\"data row2 col1\" >1.91%</td>\n",
       "            </tr>\n",
       "    </tbody></table>"
      ],
      "text/plain": [
       "<pandas.io.formats.style.Styler at 0x12e50787888>"
      ]
     },
     "execution_count": 5,
     "metadata": {},
     "output_type": "execute_result"
    }
   ],
   "source": [
    "short_data = purchase_data[[\"SN\",\"Gender\"]]\n",
    "short_data = short_data.drop_duplicates()\n",
    "\n",
    "gender_df = pd.DataFrame(short_data[\"Gender\"].value_counts())\n",
    "gender_df[\"Percent\"] = round(gender_df[\"Gender\"] / gender_df[\"Gender\"].sum(),4)\n",
    "gender_df = gender_df.rename(columns={\"Gender\":\"Total Count\",\"Percent\":\"Percent of Players\"})\n",
    "gender_df.style.format({\"Percent of Players\":\"{:.2%}\"})"
   ]
  },
  {
   "cell_type": "markdown",
   "metadata": {},
   "source": [
    "\n",
    "## Purchasing Analysis (Gender)"
   ]
  },
  {
   "cell_type": "code",
   "execution_count": 6,
   "metadata": {},
   "outputs": [
    {
     "data": {
      "text/html": [
       "<div>\n",
       "<style scoped>\n",
       "    .dataframe tbody tr th:only-of-type {\n",
       "        vertical-align: middle;\n",
       "    }\n",
       "\n",
       "    .dataframe tbody tr th {\n",
       "        vertical-align: top;\n",
       "    }\n",
       "\n",
       "    .dataframe thead th {\n",
       "        text-align: right;\n",
       "    }\n",
       "</style>\n",
       "<table border=\"1\" class=\"dataframe\">\n",
       "  <thead>\n",
       "    <tr style=\"text-align: right;\">\n",
       "      <th></th>\n",
       "      <th>Total Count</th>\n",
       "      <th>Percent of Players</th>\n",
       "      <th>Purchase Count</th>\n",
       "      <th>Average Purchase Price</th>\n",
       "      <th>Total Purchase Value</th>\n",
       "      <th>Avg Total Purchase per Person</th>\n",
       "    </tr>\n",
       "  </thead>\n",
       "  <tbody>\n",
       "    <tr>\n",
       "      <th>Male</th>\n",
       "      <td>484</td>\n",
       "      <td>0.8403</td>\n",
       "      <td>652</td>\n",
       "      <td>3.017853</td>\n",
       "      <td>1967.64</td>\n",
       "      <td>4.065372</td>\n",
       "    </tr>\n",
       "    <tr>\n",
       "      <th>Female</th>\n",
       "      <td>81</td>\n",
       "      <td>0.1406</td>\n",
       "      <td>113</td>\n",
       "      <td>3.203009</td>\n",
       "      <td>361.94</td>\n",
       "      <td>4.468395</td>\n",
       "    </tr>\n",
       "    <tr>\n",
       "      <th>Other / Non-Disclosed</th>\n",
       "      <td>11</td>\n",
       "      <td>0.0191</td>\n",
       "      <td>15</td>\n",
       "      <td>3.346000</td>\n",
       "      <td>50.19</td>\n",
       "      <td>4.562727</td>\n",
       "    </tr>\n",
       "  </tbody>\n",
       "</table>\n",
       "</div>"
      ],
      "text/plain": [
       "                       Total Count  Percent of Players  Purchase Count  \\\n",
       "Male                           484              0.8403             652   \n",
       "Female                          81              0.1406             113   \n",
       "Other / Non-Disclosed           11              0.0191              15   \n",
       "\n",
       "                       Average Purchase Price  Total Purchase Value  \\\n",
       "Male                                 3.017853               1967.64   \n",
       "Female                               3.203009                361.94   \n",
       "Other / Non-Disclosed                3.346000                 50.19   \n",
       "\n",
       "                       Avg Total Purchase per Person  \n",
       "Male                                        4.065372  \n",
       "Female                                      4.468395  \n",
       "Other / Non-Disclosed                       4.562727  "
      ]
     },
     "execution_count": 6,
     "metadata": {},
     "output_type": "execute_result"
    }
   ],
   "source": [
    "gender_analysis_df = gender_df\n",
    "gender_analysis_df[\"Purchase Count\"] = purchase_data.groupby(\"Gender\")[\"Price\"].count()\n",
    "gender_analysis_df[\"Average Purchase Price\"] = purchase_data.groupby(\"Gender\")[\"Price\"].mean()\n",
    "gender_analysis_df[\"Total Purchase Value\"] = purchase_data.groupby(\"Gender\")[\"Price\"].sum()\n",
    "gender_analysis_df[\"Avg Total Purchase per Person\"] = purchase_data.groupby(\"Gender\")[\"Price\"].sum() / gender_df[\"Total Count\"]\n",
    "gender_analysis_df"
   ]
  },
  {
   "cell_type": "code",
   "execution_count": 7,
   "metadata": {},
   "outputs": [],
   "source": [
    "del gender_analysis_df[\"Total Count\"]\n",
    "del gender_analysis_df[\"Percent of Players\"]"
   ]
  },
  {
   "cell_type": "code",
   "execution_count": 8,
   "metadata": {},
   "outputs": [
    {
     "data": {
      "text/html": [
       "<style  type=\"text/css\" >\n",
       "</style><table id=\"T_46c69602_e234_11ea_9a93_7427ea4f34d2\" ><thead>    <tr>        <th class=\"blank level0\" ></th>        <th class=\"col_heading level0 col0\" >Purchase Count</th>        <th class=\"col_heading level0 col1\" >Average Purchase Price</th>        <th class=\"col_heading level0 col2\" >Total Purchase Value</th>        <th class=\"col_heading level0 col3\" >Avg Total Purchase per Person</th>    </tr></thead><tbody>\n",
       "                <tr>\n",
       "                        <th id=\"T_46c69602_e234_11ea_9a93_7427ea4f34d2level0_row0\" class=\"row_heading level0 row0\" >Male</th>\n",
       "                        <td id=\"T_46c69602_e234_11ea_9a93_7427ea4f34d2row0_col0\" class=\"data row0 col0\" >652</td>\n",
       "                        <td id=\"T_46c69602_e234_11ea_9a93_7427ea4f34d2row0_col1\" class=\"data row0 col1\" >$                3.02</td>\n",
       "                        <td id=\"T_46c69602_e234_11ea_9a93_7427ea4f34d2row0_col2\" class=\"data row0 col2\" >$            1,967.64</td>\n",
       "                        <td id=\"T_46c69602_e234_11ea_9a93_7427ea4f34d2row0_col3\" class=\"data row0 col3\" >$                4.07</td>\n",
       "            </tr>\n",
       "            <tr>\n",
       "                        <th id=\"T_46c69602_e234_11ea_9a93_7427ea4f34d2level0_row1\" class=\"row_heading level0 row1\" >Female</th>\n",
       "                        <td id=\"T_46c69602_e234_11ea_9a93_7427ea4f34d2row1_col0\" class=\"data row1 col0\" >113</td>\n",
       "                        <td id=\"T_46c69602_e234_11ea_9a93_7427ea4f34d2row1_col1\" class=\"data row1 col1\" >$                3.20</td>\n",
       "                        <td id=\"T_46c69602_e234_11ea_9a93_7427ea4f34d2row1_col2\" class=\"data row1 col2\" >$              361.94</td>\n",
       "                        <td id=\"T_46c69602_e234_11ea_9a93_7427ea4f34d2row1_col3\" class=\"data row1 col3\" >$                4.47</td>\n",
       "            </tr>\n",
       "            <tr>\n",
       "                        <th id=\"T_46c69602_e234_11ea_9a93_7427ea4f34d2level0_row2\" class=\"row_heading level0 row2\" >Other / Non-Disclosed</th>\n",
       "                        <td id=\"T_46c69602_e234_11ea_9a93_7427ea4f34d2row2_col0\" class=\"data row2 col0\" >15</td>\n",
       "                        <td id=\"T_46c69602_e234_11ea_9a93_7427ea4f34d2row2_col1\" class=\"data row2 col1\" >$                3.35</td>\n",
       "                        <td id=\"T_46c69602_e234_11ea_9a93_7427ea4f34d2row2_col2\" class=\"data row2 col2\" >$               50.19</td>\n",
       "                        <td id=\"T_46c69602_e234_11ea_9a93_7427ea4f34d2row2_col3\" class=\"data row2 col3\" >$                4.56</td>\n",
       "            </tr>\n",
       "    </tbody></table>"
      ],
      "text/plain": [
       "<pandas.io.formats.style.Styler at 0x12e5078ca88>"
      ]
     },
     "execution_count": 8,
     "metadata": {},
     "output_type": "execute_result"
    }
   ],
   "source": [
    "gender_analysis_df.style.format({\"Average Purchase Price\":\"${:20,.2f}\",\"Total Purchase Value\":\"${:20,.2f}\",\"Avg Total Purchase per Person\":\"${:20,.2f}\"})\n"
   ]
  },
  {
   "cell_type": "markdown",
   "metadata": {},
   "source": [
    "## Age Demographics"
   ]
  },
  {
   "cell_type": "code",
   "execution_count": 9,
   "metadata": {},
   "outputs": [
    {
     "data": {
      "text/html": [
       "<style  type=\"text/css\" >\n",
       "</style><table id=\"T_47758fca_e234_11ea_993e_7427ea4f34d2\" ><thead>    <tr>        <th class=\"blank level0\" ></th>        <th class=\"col_heading level0 col0\" >Total Count</th>        <th class=\"col_heading level0 col1\" >Percentage of Players</th>    </tr>    <tr>        <th class=\"index_name level0\" >Range</th>        <th class=\"blank\" ></th>        <th class=\"blank\" ></th>    </tr></thead><tbody>\n",
       "                <tr>\n",
       "                        <th id=\"T_47758fca_e234_11ea_993e_7427ea4f34d2level0_row0\" class=\"row_heading level0 row0\" ><10</th>\n",
       "                        <td id=\"T_47758fca_e234_11ea_993e_7427ea4f34d2row0_col0\" class=\"data row0 col0\" >17</td>\n",
       "                        <td id=\"T_47758fca_e234_11ea_993e_7427ea4f34d2row0_col1\" class=\"data row0 col1\" >2.95%</td>\n",
       "            </tr>\n",
       "            <tr>\n",
       "                        <th id=\"T_47758fca_e234_11ea_993e_7427ea4f34d2level0_row1\" class=\"row_heading level0 row1\" >10-14</th>\n",
       "                        <td id=\"T_47758fca_e234_11ea_993e_7427ea4f34d2row1_col0\" class=\"data row1 col0\" >22</td>\n",
       "                        <td id=\"T_47758fca_e234_11ea_993e_7427ea4f34d2row1_col1\" class=\"data row1 col1\" >3.82%</td>\n",
       "            </tr>\n",
       "            <tr>\n",
       "                        <th id=\"T_47758fca_e234_11ea_993e_7427ea4f34d2level0_row2\" class=\"row_heading level0 row2\" >15-19</th>\n",
       "                        <td id=\"T_47758fca_e234_11ea_993e_7427ea4f34d2row2_col0\" class=\"data row2 col0\" >107</td>\n",
       "                        <td id=\"T_47758fca_e234_11ea_993e_7427ea4f34d2row2_col1\" class=\"data row2 col1\" >18.58%</td>\n",
       "            </tr>\n",
       "            <tr>\n",
       "                        <th id=\"T_47758fca_e234_11ea_993e_7427ea4f34d2level0_row3\" class=\"row_heading level0 row3\" >20-24</th>\n",
       "                        <td id=\"T_47758fca_e234_11ea_993e_7427ea4f34d2row3_col0\" class=\"data row3 col0\" >258</td>\n",
       "                        <td id=\"T_47758fca_e234_11ea_993e_7427ea4f34d2row3_col1\" class=\"data row3 col1\" >44.79%</td>\n",
       "            </tr>\n",
       "            <tr>\n",
       "                        <th id=\"T_47758fca_e234_11ea_993e_7427ea4f34d2level0_row4\" class=\"row_heading level0 row4\" >25-29</th>\n",
       "                        <td id=\"T_47758fca_e234_11ea_993e_7427ea4f34d2row4_col0\" class=\"data row4 col0\" >77</td>\n",
       "                        <td id=\"T_47758fca_e234_11ea_993e_7427ea4f34d2row4_col1\" class=\"data row4 col1\" >13.37%</td>\n",
       "            </tr>\n",
       "            <tr>\n",
       "                        <th id=\"T_47758fca_e234_11ea_993e_7427ea4f34d2level0_row5\" class=\"row_heading level0 row5\" >30-34</th>\n",
       "                        <td id=\"T_47758fca_e234_11ea_993e_7427ea4f34d2row5_col0\" class=\"data row5 col0\" >52</td>\n",
       "                        <td id=\"T_47758fca_e234_11ea_993e_7427ea4f34d2row5_col1\" class=\"data row5 col1\" >9.03%</td>\n",
       "            </tr>\n",
       "            <tr>\n",
       "                        <th id=\"T_47758fca_e234_11ea_993e_7427ea4f34d2level0_row6\" class=\"row_heading level0 row6\" >35-39</th>\n",
       "                        <td id=\"T_47758fca_e234_11ea_993e_7427ea4f34d2row6_col0\" class=\"data row6 col0\" >31</td>\n",
       "                        <td id=\"T_47758fca_e234_11ea_993e_7427ea4f34d2row6_col1\" class=\"data row6 col1\" >5.38%</td>\n",
       "            </tr>\n",
       "            <tr>\n",
       "                        <th id=\"T_47758fca_e234_11ea_993e_7427ea4f34d2level0_row7\" class=\"row_heading level0 row7\" >40+</th>\n",
       "                        <td id=\"T_47758fca_e234_11ea_993e_7427ea4f34d2row7_col0\" class=\"data row7 col0\" >12</td>\n",
       "                        <td id=\"T_47758fca_e234_11ea_993e_7427ea4f34d2row7_col1\" class=\"data row7 col1\" >2.08%</td>\n",
       "            </tr>\n",
       "    </tbody></table>"
      ],
      "text/plain": [
       "<pandas.io.formats.style.Styler at 0x12e5158a9c8>"
      ]
     },
     "execution_count": 9,
     "metadata": {},
     "output_type": "execute_result"
    }
   ],
   "source": [
    "bins = [0,9.5,14.5,19.5,24.5,29.5,34.5,39.5,100]\n",
    "group_names = [\"<10\",\"10-14\",\"15-19\",\"20-24\",\"25-29\",\"30-34\",\"35-39\",\"40+\"]\n",
    "age_df = pd.DataFrame(purchase_data[[\"Age\",\"SN\"]])\n",
    "age_df[\"Range\"] = pd.cut(age_df[\"Age\"],bins,labels=group_names,include_lowest=True)\n",
    "age_range_df = age_df.set_index(\"Range\")\n",
    "age_range_df = age_range_df.drop_duplicates()\n",
    "age_range_df = age_range_df.groupby(\"Range\").count()\n",
    "del age_range_df[\"SN\"]\n",
    "age_range_df[\"Percentage of Players\"] = age_range_df[\"Age\"] / age_range_df[\"Age\"].sum()\n",
    "age_range_df = age_range_df.rename(columns={\"Age\":\"Total Count\"})\n",
    "age_range_df.style.format({\"Percentage of Players\":\"{:.2%}\"})"
   ]
  },
  {
   "cell_type": "markdown",
   "metadata": {},
   "source": [
    "## Purchasing Analysis (Age)"
   ]
  },
  {
   "cell_type": "code",
   "execution_count": 10,
   "metadata": {},
   "outputs": [
    {
     "data": {
      "text/html": [
       "<style  type=\"text/css\" >\n",
       "</style><table id=\"T_4826daae_e234_11ea_8e82_7427ea4f34d2\" ><thead>    <tr>        <th class=\"blank level0\" ></th>        <th class=\"col_heading level0 col0\" >Purches</th>        <th class=\"col_heading level0 col1\" >Avg Purchase</th>        <th class=\"col_heading level0 col2\" >Total Value</th>        <th class=\"col_heading level0 col3\" >Avg Purch per Person</th>    </tr>    <tr>        <th class=\"index_name level0\" >Range</th>        <th class=\"blank\" ></th>        <th class=\"blank\" ></th>        <th class=\"blank\" ></th>        <th class=\"blank\" ></th>    </tr></thead><tbody>\n",
       "                <tr>\n",
       "                        <th id=\"T_4826daae_e234_11ea_8e82_7427ea4f34d2level0_row0\" class=\"row_heading level0 row0\" ><10</th>\n",
       "                        <td id=\"T_4826daae_e234_11ea_8e82_7427ea4f34d2row0_col0\" class=\"data row0 col0\" >23</td>\n",
       "                        <td id=\"T_4826daae_e234_11ea_8e82_7427ea4f34d2row0_col1\" class=\"data row0 col1\" >$                3.35</td>\n",
       "                        <td id=\"T_4826daae_e234_11ea_8e82_7427ea4f34d2row0_col2\" class=\"data row0 col2\" >$               77.13</td>\n",
       "                        <td id=\"T_4826daae_e234_11ea_8e82_7427ea4f34d2row0_col3\" class=\"data row0 col3\" >$                4.54</td>\n",
       "            </tr>\n",
       "            <tr>\n",
       "                        <th id=\"T_4826daae_e234_11ea_8e82_7427ea4f34d2level0_row1\" class=\"row_heading level0 row1\" >10-14</th>\n",
       "                        <td id=\"T_4826daae_e234_11ea_8e82_7427ea4f34d2row1_col0\" class=\"data row1 col0\" >28</td>\n",
       "                        <td id=\"T_4826daae_e234_11ea_8e82_7427ea4f34d2row1_col1\" class=\"data row1 col1\" >$                2.96</td>\n",
       "                        <td id=\"T_4826daae_e234_11ea_8e82_7427ea4f34d2row1_col2\" class=\"data row1 col2\" >$               82.78</td>\n",
       "                        <td id=\"T_4826daae_e234_11ea_8e82_7427ea4f34d2row1_col3\" class=\"data row1 col3\" >$                3.76</td>\n",
       "            </tr>\n",
       "            <tr>\n",
       "                        <th id=\"T_4826daae_e234_11ea_8e82_7427ea4f34d2level0_row2\" class=\"row_heading level0 row2\" >15-19</th>\n",
       "                        <td id=\"T_4826daae_e234_11ea_8e82_7427ea4f34d2row2_col0\" class=\"data row2 col0\" >136</td>\n",
       "                        <td id=\"T_4826daae_e234_11ea_8e82_7427ea4f34d2row2_col1\" class=\"data row2 col1\" >$                3.04</td>\n",
       "                        <td id=\"T_4826daae_e234_11ea_8e82_7427ea4f34d2row2_col2\" class=\"data row2 col2\" >$              412.89</td>\n",
       "                        <td id=\"T_4826daae_e234_11ea_8e82_7427ea4f34d2row2_col3\" class=\"data row2 col3\" >$                3.86</td>\n",
       "            </tr>\n",
       "            <tr>\n",
       "                        <th id=\"T_4826daae_e234_11ea_8e82_7427ea4f34d2level0_row3\" class=\"row_heading level0 row3\" >20-24</th>\n",
       "                        <td id=\"T_4826daae_e234_11ea_8e82_7427ea4f34d2row3_col0\" class=\"data row3 col0\" >365</td>\n",
       "                        <td id=\"T_4826daae_e234_11ea_8e82_7427ea4f34d2row3_col1\" class=\"data row3 col1\" >$                3.05</td>\n",
       "                        <td id=\"T_4826daae_e234_11ea_8e82_7427ea4f34d2row3_col2\" class=\"data row3 col2\" >$            1,114.06</td>\n",
       "                        <td id=\"T_4826daae_e234_11ea_8e82_7427ea4f34d2row3_col3\" class=\"data row3 col3\" >$                4.32</td>\n",
       "            </tr>\n",
       "            <tr>\n",
       "                        <th id=\"T_4826daae_e234_11ea_8e82_7427ea4f34d2level0_row4\" class=\"row_heading level0 row4\" >25-29</th>\n",
       "                        <td id=\"T_4826daae_e234_11ea_8e82_7427ea4f34d2row4_col0\" class=\"data row4 col0\" >101</td>\n",
       "                        <td id=\"T_4826daae_e234_11ea_8e82_7427ea4f34d2row4_col1\" class=\"data row4 col1\" >$                2.90</td>\n",
       "                        <td id=\"T_4826daae_e234_11ea_8e82_7427ea4f34d2row4_col2\" class=\"data row4 col2\" >$              293.00</td>\n",
       "                        <td id=\"T_4826daae_e234_11ea_8e82_7427ea4f34d2row4_col3\" class=\"data row4 col3\" >$                3.81</td>\n",
       "            </tr>\n",
       "            <tr>\n",
       "                        <th id=\"T_4826daae_e234_11ea_8e82_7427ea4f34d2level0_row5\" class=\"row_heading level0 row5\" >30-34</th>\n",
       "                        <td id=\"T_4826daae_e234_11ea_8e82_7427ea4f34d2row5_col0\" class=\"data row5 col0\" >73</td>\n",
       "                        <td id=\"T_4826daae_e234_11ea_8e82_7427ea4f34d2row5_col1\" class=\"data row5 col1\" >$                2.93</td>\n",
       "                        <td id=\"T_4826daae_e234_11ea_8e82_7427ea4f34d2row5_col2\" class=\"data row5 col2\" >$              214.00</td>\n",
       "                        <td id=\"T_4826daae_e234_11ea_8e82_7427ea4f34d2row5_col3\" class=\"data row5 col3\" >$                4.12</td>\n",
       "            </tr>\n",
       "            <tr>\n",
       "                        <th id=\"T_4826daae_e234_11ea_8e82_7427ea4f34d2level0_row6\" class=\"row_heading level0 row6\" >35-39</th>\n",
       "                        <td id=\"T_4826daae_e234_11ea_8e82_7427ea4f34d2row6_col0\" class=\"data row6 col0\" >41</td>\n",
       "                        <td id=\"T_4826daae_e234_11ea_8e82_7427ea4f34d2row6_col1\" class=\"data row6 col1\" >$                3.60</td>\n",
       "                        <td id=\"T_4826daae_e234_11ea_8e82_7427ea4f34d2row6_col2\" class=\"data row6 col2\" >$              147.67</td>\n",
       "                        <td id=\"T_4826daae_e234_11ea_8e82_7427ea4f34d2row6_col3\" class=\"data row6 col3\" >$                4.76</td>\n",
       "            </tr>\n",
       "            <tr>\n",
       "                        <th id=\"T_4826daae_e234_11ea_8e82_7427ea4f34d2level0_row7\" class=\"row_heading level0 row7\" >40+</th>\n",
       "                        <td id=\"T_4826daae_e234_11ea_8e82_7427ea4f34d2row7_col0\" class=\"data row7 col0\" >13</td>\n",
       "                        <td id=\"T_4826daae_e234_11ea_8e82_7427ea4f34d2row7_col1\" class=\"data row7 col1\" >$                2.94</td>\n",
       "                        <td id=\"T_4826daae_e234_11ea_8e82_7427ea4f34d2row7_col2\" class=\"data row7 col2\" >$               38.24</td>\n",
       "                        <td id=\"T_4826daae_e234_11ea_8e82_7427ea4f34d2row7_col3\" class=\"data row7 col3\" >$                3.19</td>\n",
       "            </tr>\n",
       "    </tbody></table>"
      ],
      "text/plain": [
       "<pandas.io.formats.style.Styler at 0x12e5158abc8>"
      ]
     },
     "execution_count": 10,
     "metadata": {},
     "output_type": "execute_result"
    }
   ],
   "source": [
    "purch_by_age = purchase_data\n",
    "purch_by_age[\"Range\"] = pd.cut(purch_by_age[\"Age\"],bins,labels=group_names,include_lowest=True)\n",
    "purch_by_age = purch_by_age[[\"Range\",\"Price\"]]\n",
    "age_purch_df = pd.merge(purch_by_age.groupby(\"Range\").count(),purch_by_age.groupby(\"Range\").mean(),on=\"Range\")\n",
    "age_purch_df = pd.merge(age_purch_df,purch_by_age.groupby(\"Range\").sum(),on=\"Range\")\n",
    "age_purch_df = pd.merge(age_purch_df,age_range_df,on=\"Range\")\n",
    "age_purch_df[\"Avg Purch per Person\"] = age_purch_df[\"Price\"] / age_purch_df[\"Total Count\"]\n",
    "age_purch_df = age_purch_df.rename(columns={\"Price_x\":\"Purches\",\"Price_y\":\"Avg Purchase\",\"Price\":\"Total Value\"})\n",
    "del age_purch_df[\"Total Count\"]\n",
    "del age_purch_df[\"Percentage of Players\"]\n",
    "age_purch_df.style.format({\"Avg Purchase\":\"${:20,.2f}\",\"Total Value\":\"${:20,.2f}\",\"Avg Purch per Person\":\"${:20,.2f}\"})"
   ]
  },
  {
   "cell_type": "markdown",
   "metadata": {},
   "source": [
    "## Top Spenders"
   ]
  },
  {
   "cell_type": "code",
   "execution_count": 11,
   "metadata": {},
   "outputs": [
    {
     "data": {
      "text/html": [
       "<style  type=\"text/css\" >\n",
       "</style><table id=\"T_48d957ae_e234_11ea_9c27_7427ea4f34d2\" ><thead>    <tr>        <th class=\"blank level0\" ></th>        <th class=\"col_heading level0 col0\" >Purchases</th>        <th class=\"col_heading level0 col1\" >Avg Price</th>        <th class=\"col_heading level0 col2\" >Total Value</th>    </tr>    <tr>        <th class=\"index_name level0\" >SN</th>        <th class=\"blank\" ></th>        <th class=\"blank\" ></th>        <th class=\"blank\" ></th>    </tr></thead><tbody>\n",
       "                <tr>\n",
       "                        <th id=\"T_48d957ae_e234_11ea_9c27_7427ea4f34d2level0_row0\" class=\"row_heading level0 row0\" >Lisosia93</th>\n",
       "                        <td id=\"T_48d957ae_e234_11ea_9c27_7427ea4f34d2row0_col0\" class=\"data row0 col0\" >5</td>\n",
       "                        <td id=\"T_48d957ae_e234_11ea_9c27_7427ea4f34d2row0_col1\" class=\"data row0 col1\" >$                3.79</td>\n",
       "                        <td id=\"T_48d957ae_e234_11ea_9c27_7427ea4f34d2row0_col2\" class=\"data row0 col2\" >$               18.96</td>\n",
       "            </tr>\n",
       "            <tr>\n",
       "                        <th id=\"T_48d957ae_e234_11ea_9c27_7427ea4f34d2level0_row1\" class=\"row_heading level0 row1\" >Iral74</th>\n",
       "                        <td id=\"T_48d957ae_e234_11ea_9c27_7427ea4f34d2row1_col0\" class=\"data row1 col0\" >4</td>\n",
       "                        <td id=\"T_48d957ae_e234_11ea_9c27_7427ea4f34d2row1_col1\" class=\"data row1 col1\" >$                3.40</td>\n",
       "                        <td id=\"T_48d957ae_e234_11ea_9c27_7427ea4f34d2row1_col2\" class=\"data row1 col2\" >$               13.62</td>\n",
       "            </tr>\n",
       "            <tr>\n",
       "                        <th id=\"T_48d957ae_e234_11ea_9c27_7427ea4f34d2level0_row2\" class=\"row_heading level0 row2\" >Idastidru52</th>\n",
       "                        <td id=\"T_48d957ae_e234_11ea_9c27_7427ea4f34d2row2_col0\" class=\"data row2 col0\" >4</td>\n",
       "                        <td id=\"T_48d957ae_e234_11ea_9c27_7427ea4f34d2row2_col1\" class=\"data row2 col1\" >$                3.86</td>\n",
       "                        <td id=\"T_48d957ae_e234_11ea_9c27_7427ea4f34d2row2_col2\" class=\"data row2 col2\" >$               15.45</td>\n",
       "            </tr>\n",
       "            <tr>\n",
       "                        <th id=\"T_48d957ae_e234_11ea_9c27_7427ea4f34d2level0_row3\" class=\"row_heading level0 row3\" >Asur53</th>\n",
       "                        <td id=\"T_48d957ae_e234_11ea_9c27_7427ea4f34d2row3_col0\" class=\"data row3 col0\" >3</td>\n",
       "                        <td id=\"T_48d957ae_e234_11ea_9c27_7427ea4f34d2row3_col1\" class=\"data row3 col1\" >$                2.48</td>\n",
       "                        <td id=\"T_48d957ae_e234_11ea_9c27_7427ea4f34d2row3_col2\" class=\"data row3 col2\" >$                7.44</td>\n",
       "            </tr>\n",
       "            <tr>\n",
       "                        <th id=\"T_48d957ae_e234_11ea_9c27_7427ea4f34d2level0_row4\" class=\"row_heading level0 row4\" >Inguron55</th>\n",
       "                        <td id=\"T_48d957ae_e234_11ea_9c27_7427ea4f34d2row4_col0\" class=\"data row4 col0\" >3</td>\n",
       "                        <td id=\"T_48d957ae_e234_11ea_9c27_7427ea4f34d2row4_col1\" class=\"data row4 col1\" >$                3.70</td>\n",
       "                        <td id=\"T_48d957ae_e234_11ea_9c27_7427ea4f34d2row4_col2\" class=\"data row4 col2\" >$               11.11</td>\n",
       "            </tr>\n",
       "    </tbody></table>"
      ],
      "text/plain": [
       "<pandas.io.formats.style.Styler at 0x12e515c5c08>"
      ]
     },
     "execution_count": 11,
     "metadata": {},
     "output_type": "execute_result"
    }
   ],
   "source": [
    "SN_analysis_df = pd.merge(purchase_data.groupby(\"SN\").count(),purchase_data.groupby(\"SN\").mean(),on=\"SN\")\n",
    "SN_analysis_df = pd.merge(SN_analysis_df,purchase_data.groupby(\"SN\").sum(),on=\"SN\")\n",
    "SN_analysis_df = SN_analysis_df[[\"Age_x\",\"Price_y\",\"Price\"]]\n",
    "SN_analysis_df = SN_analysis_df.rename(columns={\"Age_x\":\"Purchases\",\"Price_y\":\"Avg Price\",\"Price\":\"Total Value\"})\n",
    "SN_analysis_df = SN_analysis_df.sort_values(\"Purchases\",ascending=False)\n",
    "SN_analysis_df.head().style.format({\"Avg Price\":\"${:20,.2f}\",\"Total Value\":\"${:20,.2f}\"})\n"
   ]
  },
  {
   "cell_type": "markdown",
   "metadata": {},
   "source": [
    "## Most Popular Items"
   ]
  },
  {
   "cell_type": "code",
   "execution_count": 12,
   "metadata": {},
   "outputs": [
    {
     "data": {
      "text/html": [
       "<style  type=\"text/css\" >\n",
       "</style><table id=\"T_498dd0c6_e234_11ea_9a70_7427ea4f34d2\" ><thead>    <tr>        <th class=\"blank\" ></th>        <th class=\"blank level0\" ></th>        <th class=\"col_heading level0 col0\" >Item Price</th>        <th class=\"col_heading level0 col1\" >Total Value</th>        <th class=\"col_heading level0 col2\" >Count</th>    </tr>    <tr>        <th class=\"index_name level0\" >Item ID</th>        <th class=\"index_name level1\" >Item Name</th>        <th class=\"blank\" ></th>        <th class=\"blank\" ></th>        <th class=\"blank\" ></th>    </tr></thead><tbody>\n",
       "                <tr>\n",
       "                        <th id=\"T_498dd0c6_e234_11ea_9a70_7427ea4f34d2level0_row0\" class=\"row_heading level0 row0\" >92</th>\n",
       "                        <th id=\"T_498dd0c6_e234_11ea_9a70_7427ea4f34d2level1_row0\" class=\"row_heading level1 row0\" >Final Critic</th>\n",
       "                        <td id=\"T_498dd0c6_e234_11ea_9a70_7427ea4f34d2row0_col0\" class=\"data row0 col0\" >$                4.61</td>\n",
       "                        <td id=\"T_498dd0c6_e234_11ea_9a70_7427ea4f34d2row0_col1\" class=\"data row0 col1\" >$               59.99</td>\n",
       "                        <td id=\"T_498dd0c6_e234_11ea_9a70_7427ea4f34d2row0_col2\" class=\"data row0 col2\" >13</td>\n",
       "            </tr>\n",
       "            <tr>\n",
       "                        <th id=\"T_498dd0c6_e234_11ea_9a70_7427ea4f34d2level0_row1\" class=\"row_heading level0 row1\" >178</th>\n",
       "                        <th id=\"T_498dd0c6_e234_11ea_9a70_7427ea4f34d2level1_row1\" class=\"row_heading level1 row1\" >Oathbreaker, Last Hope of the Breaking Storm</th>\n",
       "                        <td id=\"T_498dd0c6_e234_11ea_9a70_7427ea4f34d2row1_col0\" class=\"data row1 col0\" >$                4.23</td>\n",
       "                        <td id=\"T_498dd0c6_e234_11ea_9a70_7427ea4f34d2row1_col1\" class=\"data row1 col1\" >$               50.76</td>\n",
       "                        <td id=\"T_498dd0c6_e234_11ea_9a70_7427ea4f34d2row1_col2\" class=\"data row1 col2\" >12</td>\n",
       "            </tr>\n",
       "            <tr>\n",
       "                        <th id=\"T_498dd0c6_e234_11ea_9a70_7427ea4f34d2level0_row2\" class=\"row_heading level0 row2\" >145</th>\n",
       "                        <th id=\"T_498dd0c6_e234_11ea_9a70_7427ea4f34d2level1_row2\" class=\"row_heading level1 row2\" >Fiery Glass Crusader</th>\n",
       "                        <td id=\"T_498dd0c6_e234_11ea_9a70_7427ea4f34d2row2_col0\" class=\"data row2 col0\" >$                4.58</td>\n",
       "                        <td id=\"T_498dd0c6_e234_11ea_9a70_7427ea4f34d2row2_col1\" class=\"data row2 col1\" >$               41.22</td>\n",
       "                        <td id=\"T_498dd0c6_e234_11ea_9a70_7427ea4f34d2row2_col2\" class=\"data row2 col2\" >9</td>\n",
       "            </tr>\n",
       "            <tr>\n",
       "                        <th id=\"T_498dd0c6_e234_11ea_9a70_7427ea4f34d2level0_row3\" class=\"row_heading level0 row3\" >132</th>\n",
       "                        <th id=\"T_498dd0c6_e234_11ea_9a70_7427ea4f34d2level1_row3\" class=\"row_heading level1 row3\" >Persuasion</th>\n",
       "                        <td id=\"T_498dd0c6_e234_11ea_9a70_7427ea4f34d2row3_col0\" class=\"data row3 col0\" >$                3.22</td>\n",
       "                        <td id=\"T_498dd0c6_e234_11ea_9a70_7427ea4f34d2row3_col1\" class=\"data row3 col1\" >$               28.99</td>\n",
       "                        <td id=\"T_498dd0c6_e234_11ea_9a70_7427ea4f34d2row3_col2\" class=\"data row3 col2\" >9</td>\n",
       "            </tr>\n",
       "            <tr>\n",
       "                        <th id=\"T_498dd0c6_e234_11ea_9a70_7427ea4f34d2level0_row4\" class=\"row_heading level0 row4\" >108</th>\n",
       "                        <th id=\"T_498dd0c6_e234_11ea_9a70_7427ea4f34d2level1_row4\" class=\"row_heading level1 row4\" >Extraction, Quickblade Of Trembling Hands</th>\n",
       "                        <td id=\"T_498dd0c6_e234_11ea_9a70_7427ea4f34d2row4_col0\" class=\"data row4 col0\" >$                3.53</td>\n",
       "                        <td id=\"T_498dd0c6_e234_11ea_9a70_7427ea4f34d2row4_col1\" class=\"data row4 col1\" >$               31.77</td>\n",
       "                        <td id=\"T_498dd0c6_e234_11ea_9a70_7427ea4f34d2row4_col2\" class=\"data row4 col2\" >9</td>\n",
       "            </tr>\n",
       "    </tbody></table>"
      ],
      "text/plain": [
       "<pandas.io.formats.style.Styler at 0x12e50783e48>"
      ]
     },
     "execution_count": 12,
     "metadata": {},
     "output_type": "execute_result"
    }
   ],
   "source": [
    "most_popular_df = purchase_data[[\"Item ID\",\"Item Name\",\"Price\"]]\n",
    "pop_stats_df = pd.merge(most_popular_df.groupby([\"Item ID\",\"Item Name\"]).mean(),most_popular_df.groupby([\"Item ID\",\"Item Name\"]).sum(),on=[\"Item ID\",\"Item Name\"])\n",
    "pop_stats_df = pd.merge(pop_stats_df,most_popular_df.groupby([\"Item ID\",\"Item Name\"]).count(),on=[\"Item ID\",\"Item Name\"])\n",
    "pop_stats_df = pop_stats_df.rename(columns={\"Price_x\":\"Item Price\",\"Price_y\":\"Total Value\",\"Price\":\"Count\"})\n",
    "pop_stats_df = pop_stats_df.sort_values(\"Count\",ascending=False)\n",
    "pop_stats_df.head().style.format({\"Item Price\":\"${:20,.2f}\",\"Total Value\":\"${:20,.2f}\"})\n"
   ]
  },
  {
   "cell_type": "markdown",
   "metadata": {},
   "source": [
    "## Most Profitable Items"
   ]
  },
  {
   "cell_type": "code",
   "execution_count": 13,
   "metadata": {},
   "outputs": [
    {
     "data": {
      "text/html": [
       "<style  type=\"text/css\" >\n",
       "</style><table id=\"T_4a4e9af6_e234_11ea_8400_7427ea4f34d2\" ><thead>    <tr>        <th class=\"blank\" ></th>        <th class=\"blank level0\" ></th>        <th class=\"col_heading level0 col0\" >Item Price</th>        <th class=\"col_heading level0 col1\" >Total Value</th>        <th class=\"col_heading level0 col2\" >Count</th>    </tr>    <tr>        <th class=\"index_name level0\" >Item ID</th>        <th class=\"index_name level1\" >Item Name</th>        <th class=\"blank\" ></th>        <th class=\"blank\" ></th>        <th class=\"blank\" ></th>    </tr></thead><tbody>\n",
       "                <tr>\n",
       "                        <th id=\"T_4a4e9af6_e234_11ea_8400_7427ea4f34d2level0_row0\" class=\"row_heading level0 row0\" >92</th>\n",
       "                        <th id=\"T_4a4e9af6_e234_11ea_8400_7427ea4f34d2level1_row0\" class=\"row_heading level1 row0\" >Final Critic</th>\n",
       "                        <td id=\"T_4a4e9af6_e234_11ea_8400_7427ea4f34d2row0_col0\" class=\"data row0 col0\" >$                4.61</td>\n",
       "                        <td id=\"T_4a4e9af6_e234_11ea_8400_7427ea4f34d2row0_col1\" class=\"data row0 col1\" >$               59.99</td>\n",
       "                        <td id=\"T_4a4e9af6_e234_11ea_8400_7427ea4f34d2row0_col2\" class=\"data row0 col2\" >13</td>\n",
       "            </tr>\n",
       "            <tr>\n",
       "                        <th id=\"T_4a4e9af6_e234_11ea_8400_7427ea4f34d2level0_row1\" class=\"row_heading level0 row1\" >178</th>\n",
       "                        <th id=\"T_4a4e9af6_e234_11ea_8400_7427ea4f34d2level1_row1\" class=\"row_heading level1 row1\" >Oathbreaker, Last Hope of the Breaking Storm</th>\n",
       "                        <td id=\"T_4a4e9af6_e234_11ea_8400_7427ea4f34d2row1_col0\" class=\"data row1 col0\" >$                4.23</td>\n",
       "                        <td id=\"T_4a4e9af6_e234_11ea_8400_7427ea4f34d2row1_col1\" class=\"data row1 col1\" >$               50.76</td>\n",
       "                        <td id=\"T_4a4e9af6_e234_11ea_8400_7427ea4f34d2row1_col2\" class=\"data row1 col2\" >12</td>\n",
       "            </tr>\n",
       "            <tr>\n",
       "                        <th id=\"T_4a4e9af6_e234_11ea_8400_7427ea4f34d2level0_row2\" class=\"row_heading level0 row2\" >82</th>\n",
       "                        <th id=\"T_4a4e9af6_e234_11ea_8400_7427ea4f34d2level1_row2\" class=\"row_heading level1 row2\" >Nirvana</th>\n",
       "                        <td id=\"T_4a4e9af6_e234_11ea_8400_7427ea4f34d2row2_col0\" class=\"data row2 col0\" >$                4.90</td>\n",
       "                        <td id=\"T_4a4e9af6_e234_11ea_8400_7427ea4f34d2row2_col1\" class=\"data row2 col1\" >$               44.10</td>\n",
       "                        <td id=\"T_4a4e9af6_e234_11ea_8400_7427ea4f34d2row2_col2\" class=\"data row2 col2\" >9</td>\n",
       "            </tr>\n",
       "            <tr>\n",
       "                        <th id=\"T_4a4e9af6_e234_11ea_8400_7427ea4f34d2level0_row3\" class=\"row_heading level0 row3\" >145</th>\n",
       "                        <th id=\"T_4a4e9af6_e234_11ea_8400_7427ea4f34d2level1_row3\" class=\"row_heading level1 row3\" >Fiery Glass Crusader</th>\n",
       "                        <td id=\"T_4a4e9af6_e234_11ea_8400_7427ea4f34d2row3_col0\" class=\"data row3 col0\" >$                4.58</td>\n",
       "                        <td id=\"T_4a4e9af6_e234_11ea_8400_7427ea4f34d2row3_col1\" class=\"data row3 col1\" >$               41.22</td>\n",
       "                        <td id=\"T_4a4e9af6_e234_11ea_8400_7427ea4f34d2row3_col2\" class=\"data row3 col2\" >9</td>\n",
       "            </tr>\n",
       "            <tr>\n",
       "                        <th id=\"T_4a4e9af6_e234_11ea_8400_7427ea4f34d2level0_row4\" class=\"row_heading level0 row4\" >103</th>\n",
       "                        <th id=\"T_4a4e9af6_e234_11ea_8400_7427ea4f34d2level1_row4\" class=\"row_heading level1 row4\" >Singed Scalpel</th>\n",
       "                        <td id=\"T_4a4e9af6_e234_11ea_8400_7427ea4f34d2row4_col0\" class=\"data row4 col0\" >$                4.35</td>\n",
       "                        <td id=\"T_4a4e9af6_e234_11ea_8400_7427ea4f34d2row4_col1\" class=\"data row4 col1\" >$               34.80</td>\n",
       "                        <td id=\"T_4a4e9af6_e234_11ea_8400_7427ea4f34d2row4_col2\" class=\"data row4 col2\" >8</td>\n",
       "            </tr>\n",
       "    </tbody></table>"
      ],
      "text/plain": [
       "<pandas.io.formats.style.Styler at 0x12e50787e88>"
      ]
     },
     "execution_count": 13,
     "metadata": {},
     "output_type": "execute_result"
    }
   ],
   "source": [
    "pop_stats_df = pop_stats_df.sort_values(\"Total Value\",ascending=False)\n",
    "pop_stats_df.head().style.format({\"Item Price\":\"${:20,.2f}\",\"Total Value\":\"${:20,.2f}\"})\n"
   ]
  }
 ],
 "metadata": {
  "anaconda-cloud": {},
  "kernel_info": {
   "name": "python3"
  },
  "kernelspec": {
   "display_name": "Python 3",
   "language": "python",
   "name": "python3"
  },
  "language_info": {
   "codemirror_mode": {
    "name": "ipython",
    "version": 3
   },
   "file_extension": ".py",
   "mimetype": "text/x-python",
   "name": "python",
   "nbconvert_exporter": "python",
   "pygments_lexer": "ipython3",
   "version": "3.7.6"
  },
  "latex_envs": {
   "LaTeX_envs_menu_present": true,
   "autoclose": false,
   "autocomplete": true,
   "bibliofile": "biblio.bib",
   "cite_by": "apalike",
   "current_citInitial": 1,
   "eqLabelWithNumbers": true,
   "eqNumInitial": 1,
   "hotkeys": {
    "equation": "Ctrl-E",
    "itemize": "Ctrl-I"
   },
   "labels_anchors": false,
   "latex_user_defs": false,
   "report_style_numbering": false,
   "user_envs_cfg": false
  },
  "nteract": {
   "version": "0.2.0"
  }
 },
 "nbformat": 4,
 "nbformat_minor": 2
}
